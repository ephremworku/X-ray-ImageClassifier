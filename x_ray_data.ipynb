{
 "cells": [
  {
   "cell_type": "code",
   "execution_count": 1,
   "metadata": {},
   "outputs": [],
   "source": []
  },
  {
   "cell_type": "code",
   "execution_count": 5,
   "metadata": {},
   "outputs": [],
   "source": []
  },
  {
   "cell_type": "code",
   "execution_count": 59,
   "metadata": {},
   "outputs": [],
   "source": [
    "import os\n",
    "from PIL import Image\n",
    "from torchvision import datasets, transforms\n",
    "from torch.utils.data import DataLoader\n",
    "import matplotlib.pyplot as plt\n",
    "import numpy as np\n",
    "import torch\n",
    "import torch.nn as nn\n",
    "import torch.nn.functional as F\n",
    "\n",
    "\n",
    "# Define directories\n",
    "train_directory = './Bone_Fracture_Binary_Classification/train/'\n",
    "test_directory = './Bone_Fracture_Binary_Classification/test/'\n",
    "valid_directory = './Bone_Fracture_Binary_Classification/val/'\n",
    "\n",
    "classes = ['Fractured', 'non- Fractured']\n",
    "\n",
    "# Define transformations\n",
    "data_transforms = {\n",
    "    'train': transforms.Compose([\n",
    "        transforms.Resize((32, 32)),\n",
    "        transforms.ToTensor(),\n",
    "        transforms.Normalize([0.485, 0.456, 0.406], [0.229, 0.224, 0.225])  # Normalizing with ImageNet mean and std\n",
    "    ]),\n",
    "\n",
    "    'test': transforms.Compose([\n",
    "        transforms.Resize((32, 32)),\n",
    "        transforms.ToTensor(),\n",
    "        transforms.Normalize([0.485, 0.456, 0.406], [0.229, 0.224, 0.225])\n",
    "    ]),\n",
    "\n",
    "    'valid': transforms.Compose([\n",
    "        transforms.Resize((32, 32)),\n",
    "        transforms.ToTensor(),\n",
    "        transforms.Normalize([0.485, 0.456, 0.406], [0.229, 0.224, 0.225])\n",
    "    ]),\n",
    "\n",
    "}\n",
    "\n",
    "# Create datasets\n",
    "train_dataset= datasets.ImageFolder(train_directory, transform=data_transforms['train'])\n",
    "test_dataset = datasets.ImageFolder(test_directory, transform=data_transforms['test'])\n",
    "valid_dataset= datasets.ImageFolder(valid_directory, transform=data_transforms['valid'])\n",
    "\n",
    "# Create DataLoaders\n",
    "train_loader = DataLoader(train_dataset, batch_size=32, shuffle=True)\n",
    "test_loader = DataLoader(test_dataset, batch_size=32, shuffle=False)\n",
    "valid_loader = DataLoader(valid_dataset, batch_size=32, shuffle=False)\n",
    "\n",
    "# device\n",
    "device = 'cuda' if torch.cuda.is_available else 'cpu'\n"
   ]
  },
  {
   "cell_type": "code",
   "execution_count": 67,
   "metadata": {},
   "outputs": [],
   "source": [
    "class XrayClassifierModel(nn.Module):\n",
    "    def __init__(self) -> None:\n",
    "        super(XrayClassifierModel, self).__init__()\n",
    "        self.conv1 = nn.Conv2d(3, 6, 5)\n",
    "        self.pool = nn.MaxPool2d(2,2)\n",
    "        self.conv2 = nn.Conv2d(6,16,5)\n",
    "        self.fc1 = nn.Linear(16*5*5, 120)\n",
    "        self.fc2 = nn.Linear(120, 84)\n",
    "        self.fc3 = nn.Linear(84,2)\n",
    "    def forward(self, x):\n",
    "        x= self.pool(F.relu(self.conv1(x)))\n",
    "        x = self.pool(F.relu(self.conv2(x)))\n",
    "        x = x.view(-1, 16*5*5)\n",
    "        x = F.relu(self.fc1(x))\n",
    "        x = F.relu(self.fc2(x))\n",
    "        x = F.sigmoid(x)\n",
    "        x = self.fc3(x)\n",
    "        return x\n",
    "        \n"
   ]
  },
  {
   "cell_type": "code",
   "execution_count": 68,
   "metadata": {},
   "outputs": [
    {
     "name": "stdout",
     "output_type": "stream",
     "text": [
      "Epochs: 20/1 loss: 0.7146\n",
      "Epochs: 20/1 loss: 0.6928\n",
      "Epochs: 20/1 loss: 0.6883\n",
      "Epochs: 20/2 loss: 0.6926\n",
      "Epochs: 20/2 loss: 0.7001\n",
      "Epochs: 20/2 loss: 0.6960\n",
      "Epochs: 20/3 loss: 0.6932\n",
      "Epochs: 20/3 loss: 0.6964\n",
      "Epochs: 20/3 loss: 0.6953\n",
      "Epochs: 20/4 loss: 0.6936\n",
      "Epochs: 20/4 loss: 0.6901\n",
      "Epochs: 20/4 loss: 0.6886\n",
      "Epochs: 20/5 loss: 0.6945\n",
      "Epochs: 20/5 loss: 0.6878\n",
      "Epochs: 20/5 loss: 0.6912\n",
      "Epochs: 20/6 loss: 0.6930\n",
      "Epochs: 20/6 loss: 0.6879\n",
      "Epochs: 20/6 loss: 0.6891\n",
      "Epochs: 20/7 loss: 0.6902\n",
      "Epochs: 20/7 loss: 0.6889\n",
      "Epochs: 20/7 loss: 0.6893\n",
      "Epochs: 20/8 loss: 0.6959\n",
      "Epochs: 20/8 loss: 0.6914\n",
      "Epochs: 20/8 loss: 0.6905\n",
      "Epochs: 20/9 loss: 0.6887\n",
      "Epochs: 20/9 loss: 0.6883\n",
      "Epochs: 20/9 loss: 0.6820\n",
      "Epochs: 20/10 loss: 0.6797\n",
      "Epochs: 20/10 loss: 0.6687\n",
      "Epochs: 20/10 loss: 0.6644\n",
      "Epochs: 20/11 loss: 0.6922\n",
      "Epochs: 20/11 loss: 0.6703\n",
      "Epochs: 20/11 loss: 0.6735\n",
      "Epochs: 20/12 loss: 0.6975\n",
      "Epochs: 20/12 loss: 0.6625\n",
      "Epochs: 20/12 loss: 0.6233\n",
      "Epochs: 20/13 loss: 0.5895\n",
      "Epochs: 20/13 loss: 0.6149\n",
      "Epochs: 20/13 loss: 0.5588\n",
      "Epochs: 20/14 loss: 0.6012\n",
      "Epochs: 20/14 loss: 0.6824\n",
      "Epochs: 20/14 loss: 0.5369\n",
      "Epochs: 20/15 loss: 0.5744\n",
      "Epochs: 20/15 loss: 0.5461\n",
      "Epochs: 20/15 loss: 0.5615\n",
      "Epochs: 20/16 loss: 0.6047\n",
      "Epochs: 20/16 loss: 0.5370\n",
      "Epochs: 20/16 loss: 0.4708\n",
      "Epochs: 20/17 loss: 0.7879\n",
      "Epochs: 20/17 loss: 0.5127\n",
      "Epochs: 20/17 loss: 0.5154\n",
      "Epochs: 20/18 loss: 0.5257\n",
      "Epochs: 20/18 loss: 0.6408\n",
      "Epochs: 20/18 loss: 0.4459\n",
      "Epochs: 20/19 loss: 0.4889\n",
      "Epochs: 20/19 loss: 0.4490\n",
      "Epochs: 20/19 loss: 0.3506\n",
      "Epochs: 20/20 loss: 0.4665\n",
      "Epochs: 20/20 loss: 0.2769\n",
      "Epochs: 20/20 loss: 0.3457\n",
      "The training Finished\n"
     ]
    }
   ],
   "source": [
    "num_epoch = 20\n",
    "learning_rate = 0.01\n",
    "model = XrayClassifierModel().to(device)\n",
    "criterion = nn.CrossEntropyLoss()\n",
    "optimizer= torch.optim.SGD(model.parameters(), lr=learning_rate)\n",
    "for x in range(num_epoch):\n",
    "    for i, (images, labeles) in enumerate(train_loader):\n",
    "        images, labeles = images.to(device), labeles.to(device)\n",
    "        pred = model(images)\n",
    "        loss = criterion(pred, labeles)\n",
    "        loss.backward()\n",
    "        optimizer.step()\n",
    "        optimizer.zero_grad()\n",
    "        if(i % 100 == 0):\n",
    "            print(f'Epochs: {num_epoch}/{x+1} loss: {loss.item():.4f}')\n",
    "print('The training Finished')\n",
    "\n"
   ]
  },
  {
   "cell_type": "code",
   "execution_count": 72,
   "metadata": {},
   "outputs": [
    {
     "name": "stdout",
     "output_type": "stream",
     "text": [
      "32\n",
      "32\n",
      "32\n",
      "32\n",
      "32\n",
      "32\n",
      "32\n",
      "32\n",
      "32\n",
      "32\n",
      "32\n",
      "32\n",
      "32\n",
      "32\n",
      "32\n",
      "20\n"
     ]
    }
   ],
   "source": [
    "correct_no = []\n",
    "no_test = 0\n",
    "with torch.no_grad():\n",
    "    no_correct = 0\n",
    "    for i, (image2, labele2) in enumerate(test_loader):\n",
    "        image2, kabeke2 = image2.to(device), labele2.to(device)\n",
    "        prediction = model(image2)\n",
    "        print(len(prediction))\n",
    "        no_test += 32\n",
    "        for x in range(len(prediction)):\n",
    "            if(np.argmax(prediction[x].to('cpu'))==labele2[x]):\n",
    "                correct_no.append(1)\n"
   ]
  },
  {
   "cell_type": "code",
   "execution_count": 79,
   "metadata": {},
   "outputs": [
    {
     "name": "stdout",
     "output_type": "stream",
     "text": [
      "accuracy is:  0.75390625\n"
     ]
    }
   ],
   "source": [
    "print(\"accuracy is: \", len(correct_no)/ no_test)"
   ]
  },
  {
   "cell_type": "code",
   "execution_count": null,
   "metadata": {},
   "outputs": [],
   "source": []
  }
 ],
 "metadata": {
  "kernelspec": {
   "display_name": "Python 3",
   "language": "python",
   "name": "python3"
  },
  "language_info": {
   "codemirror_mode": {
    "name": "ipython",
    "version": 3
   },
   "file_extension": ".py",
   "mimetype": "text/x-python",
   "name": "python",
   "nbconvert_exporter": "python",
   "pygments_lexer": "ipython3",
   "version": "3.8.10"
  }
 },
 "nbformat": 4,
 "nbformat_minor": 2
}
